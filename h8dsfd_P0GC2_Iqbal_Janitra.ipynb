{
 "cells": [
  {
   "cell_type": "markdown",
   "metadata": {},
   "source": [
    "**Perkenalan**\n",
    "\n",
    "Nama : Iqbal janitra\n",
    "\n",
    "Batch : 003"
   ]
  },
  {
   "cell_type": "code",
   "execution_count": 87,
   "metadata": {},
   "outputs": [],
   "source": [
    "import numpy as np \n",
    "import pandas as pd\n",
    "import matplotlib.pyplot as plt\n",
    "import seaborn as sns\n",
    "import scipy.stats as stats\n"
   ]
  },
  {
   "cell_type": "markdown",
   "metadata": {},
   "source": [
    "**DATA LOADING**"
   ]
  },
  {
   "cell_type": "markdown",
   "metadata": {},
   "source": [
    "Memasukan file data yang akan di olah dan di eksplorasi\n",
    "\n",
    "SELECT report_date, load_type, load_time, load_weight, dropoff_site \n",
    "FROM bigquery-public-data.austin_waste.waste_and_diversion "
   ]
  },
  {
   "cell_type": "code",
   "execution_count": 88,
   "metadata": {},
   "outputs": [],
   "source": [
    "df=pd.read_csv(\"/Users/iqbaljanitra/Documents/GCpase0/GC1PASE0/GC2/h8dsft_P0GC2_Iqbal_Janitra.csv\")"
   ]
  },
  {
   "cell_type": "markdown",
   "metadata": {},
   "source": [
    "**DATA CLEANING**"
   ]
  },
  {
   "cell_type": "code",
   "execution_count": 89,
   "metadata": {},
   "outputs": [
    {
     "data": {
      "text/html": [
       "<div>\n",
       "<style scoped>\n",
       "    .dataframe tbody tr th:only-of-type {\n",
       "        vertical-align: middle;\n",
       "    }\n",
       "\n",
       "    .dataframe tbody tr th {\n",
       "        vertical-align: top;\n",
       "    }\n",
       "\n",
       "    .dataframe thead th {\n",
       "        text-align: right;\n",
       "    }\n",
       "</style>\n",
       "<table border=\"1\" class=\"dataframe\">\n",
       "  <thead>\n",
       "    <tr style=\"text-align: right;\">\n",
       "      <th></th>\n",
       "      <th>report_date</th>\n",
       "      <th>load_type</th>\n",
       "      <th>load_time</th>\n",
       "      <th>load_weight</th>\n",
       "      <th>dropoff_site</th>\n",
       "    </tr>\n",
       "  </thead>\n",
       "  <tbody>\n",
       "    <tr>\n",
       "      <th>0</th>\n",
       "      <td>2021-07-08</td>\n",
       "      <td>TIRES</td>\n",
       "      <td>2021-07-08 12:00:00.000000 UTC</td>\n",
       "      <td>2260.0</td>\n",
       "      <td>MRF</td>\n",
       "    </tr>\n",
       "    <tr>\n",
       "      <th>1</th>\n",
       "      <td>2021-07-08</td>\n",
       "      <td>TIRES</td>\n",
       "      <td>2021-07-08 11:00:00.000000 UTC</td>\n",
       "      <td>1260.0</td>\n",
       "      <td>MRF</td>\n",
       "    </tr>\n",
       "    <tr>\n",
       "      <th>2</th>\n",
       "      <td>2021-07-08</td>\n",
       "      <td>TIRES</td>\n",
       "      <td>2021-07-08 03:00:00.000000 UTC</td>\n",
       "      <td>800.0</td>\n",
       "      <td>MRF</td>\n",
       "    </tr>\n",
       "    <tr>\n",
       "      <th>3</th>\n",
       "      <td>2021-05-01</td>\n",
       "      <td>TIRES</td>\n",
       "      <td>2021-05-01 12:29:00.000000 UTC</td>\n",
       "      <td>760.0</td>\n",
       "      <td>MRF</td>\n",
       "    </tr>\n",
       "    <tr>\n",
       "      <th>4</th>\n",
       "      <td>2021-07-03</td>\n",
       "      <td>TIRES</td>\n",
       "      <td>2021-07-03 12:09:00.000000 UTC</td>\n",
       "      <td>1400.0</td>\n",
       "      <td>MRF</td>\n",
       "    </tr>\n",
       "    <tr>\n",
       "      <th>...</th>\n",
       "      <td>...</td>\n",
       "      <td>...</td>\n",
       "      <td>...</td>\n",
       "      <td>...</td>\n",
       "      <td>...</td>\n",
       "    </tr>\n",
       "    <tr>\n",
       "      <th>26152</th>\n",
       "      <td>2021-03-01</td>\n",
       "      <td>ORGANICS</td>\n",
       "      <td>2021-03-01 11:26:00.000000 UTC</td>\n",
       "      <td>12100.0</td>\n",
       "      <td>ORGANICS BY GOSH</td>\n",
       "    </tr>\n",
       "    <tr>\n",
       "      <th>26153</th>\n",
       "      <td>2021-03-01</td>\n",
       "      <td>ORGANICS</td>\n",
       "      <td>2021-03-01 04:27:00.000000 UTC</td>\n",
       "      <td>10900.0</td>\n",
       "      <td>ORGANICS BY GOSH</td>\n",
       "    </tr>\n",
       "    <tr>\n",
       "      <th>26154</th>\n",
       "      <td>2021-03-01</td>\n",
       "      <td>ORGANICS</td>\n",
       "      <td>2021-03-01 05:55:00.000000 UTC</td>\n",
       "      <td>21800.0</td>\n",
       "      <td>ORGANICS BY GOSH</td>\n",
       "    </tr>\n",
       "    <tr>\n",
       "      <th>26155</th>\n",
       "      <td>2021-03-01</td>\n",
       "      <td>ORGANICS</td>\n",
       "      <td>2021-03-02 01:10:00.000000 UTC</td>\n",
       "      <td>5640.0</td>\n",
       "      <td>ORGANICS BY GOSH</td>\n",
       "    </tr>\n",
       "    <tr>\n",
       "      <th>26156</th>\n",
       "      <td>2021-03-01</td>\n",
       "      <td>RECYCLED METAL</td>\n",
       "      <td>2021-03-01 10:22:00.000000 UTC</td>\n",
       "      <td>360.0</td>\n",
       "      <td>AUSTIN IRON AND METAL</td>\n",
       "    </tr>\n",
       "  </tbody>\n",
       "</table>\n",
       "<p>26157 rows × 5 columns</p>\n",
       "</div>"
      ],
      "text/plain": [
       "      report_date       load_type                       load_time  \\\n",
       "0      2021-07-08           TIRES  2021-07-08 12:00:00.000000 UTC   \n",
       "1      2021-07-08           TIRES  2021-07-08 11:00:00.000000 UTC   \n",
       "2      2021-07-08           TIRES  2021-07-08 03:00:00.000000 UTC   \n",
       "3      2021-05-01           TIRES  2021-05-01 12:29:00.000000 UTC   \n",
       "4      2021-07-03           TIRES  2021-07-03 12:09:00.000000 UTC   \n",
       "...           ...             ...                             ...   \n",
       "26152  2021-03-01        ORGANICS  2021-03-01 11:26:00.000000 UTC   \n",
       "26153  2021-03-01        ORGANICS  2021-03-01 04:27:00.000000 UTC   \n",
       "26154  2021-03-01        ORGANICS  2021-03-01 05:55:00.000000 UTC   \n",
       "26155  2021-03-01        ORGANICS  2021-03-02 01:10:00.000000 UTC   \n",
       "26156  2021-03-01  RECYCLED METAL  2021-03-01 10:22:00.000000 UTC   \n",
       "\n",
       "       load_weight           dropoff_site  \n",
       "0           2260.0                    MRF  \n",
       "1           1260.0                    MRF  \n",
       "2            800.0                    MRF  \n",
       "3            760.0                    MRF  \n",
       "4           1400.0                    MRF  \n",
       "...            ...                    ...  \n",
       "26152      12100.0       ORGANICS BY GOSH  \n",
       "26153      10900.0       ORGANICS BY GOSH  \n",
       "26154      21800.0       ORGANICS BY GOSH  \n",
       "26155       5640.0       ORGANICS BY GOSH  \n",
       "26156        360.0  AUSTIN IRON AND METAL  \n",
       "\n",
       "[26157 rows x 5 columns]"
      ]
     },
     "execution_count": 89,
     "metadata": {},
     "output_type": "execute_result"
    }
   ],
   "source": [
    "df"
   ]
  },
  {
   "cell_type": "markdown",
   "metadata": {},
   "source": [
    "melihat ukuran table\n"
   ]
  },
  {
   "cell_type": "code",
   "execution_count": 90,
   "metadata": {},
   "outputs": [
    {
     "data": {
      "text/plain": [
       "(26157, 5)"
      ]
     },
     "execution_count": 90,
     "metadata": {},
     "output_type": "execute_result"
    }
   ],
   "source": [
    "df.shape"
   ]
  },
  {
   "cell_type": "markdown",
   "metadata": {},
   "source": [
    "melihat info jenis data type"
   ]
  },
  {
   "cell_type": "markdown",
   "metadata": {},
   "source": [
    "Merubah data type report_date menjadi datetime"
   ]
  },
  {
   "cell_type": "code",
   "execution_count": 91,
   "metadata": {},
   "outputs": [
    {
     "name": "stdout",
     "output_type": "stream",
     "text": [
      "<class 'pandas.core.frame.DataFrame'>\n",
      "RangeIndex: 26157 entries, 0 to 26156\n",
      "Data columns (total 5 columns):\n",
      " #   Column        Non-Null Count  Dtype         \n",
      "---  ------        --------------  -----         \n",
      " 0   report_date   26157 non-null  datetime64[ns]\n",
      " 1   load_type     26157 non-null  object        \n",
      " 2   load_time     26157 non-null  object        \n",
      " 3   load_weight   25109 non-null  float64       \n",
      " 4   dropoff_site  26157 non-null  object        \n",
      "dtypes: datetime64[ns](1), float64(1), object(3)\n",
      "memory usage: 1021.9+ KB\n"
     ]
    }
   ],
   "source": [
    "df['report_date'] = pd.to_datetime(df['report_date'])\n",
    "df.info()"
   ]
  },
  {
   "cell_type": "markdown",
   "metadata": {},
   "source": [
    "mencari mising data"
   ]
  },
  {
   "cell_type": "code",
   "execution_count": 92,
   "metadata": {},
   "outputs": [
    {
     "data": {
      "text/plain": [
       "report_date        0\n",
       "load_type          0\n",
       "load_time          0\n",
       "load_weight     1048\n",
       "dropoff_site       0\n",
       "dtype: int64"
      ]
     },
     "execution_count": 92,
     "metadata": {},
     "output_type": "execute_result"
    }
   ],
   "source": [
    "df.isnull().sum()"
   ]
  },
  {
   "cell_type": "markdown",
   "metadata": {},
   "source": [
    "mendrop missing data"
   ]
  },
  {
   "cell_type": "code",
   "execution_count": 93,
   "metadata": {},
   "outputs": [],
   "source": [
    "df.dropna(subset = 'load_weight', axis = 0,inplace=True)"
   ]
  },
  {
   "cell_type": "code",
   "execution_count": 94,
   "metadata": {},
   "outputs": [
    {
     "data": {
      "text/plain": [
       "report_date     0\n",
       "load_type       0\n",
       "load_time       0\n",
       "load_weight     0\n",
       "dropoff_site    0\n",
       "dtype: int64"
      ]
     },
     "execution_count": 94,
     "metadata": {},
     "output_type": "execute_result"
    }
   ],
   "source": [
    "df.isnull().sum()"
   ]
  },
  {
   "cell_type": "code",
   "execution_count": 95,
   "metadata": {},
   "outputs": [
    {
     "data": {
      "text/html": [
       "<div>\n",
       "<style scoped>\n",
       "    .dataframe tbody tr th:only-of-type {\n",
       "        vertical-align: middle;\n",
       "    }\n",
       "\n",
       "    .dataframe tbody tr th {\n",
       "        vertical-align: top;\n",
       "    }\n",
       "\n",
       "    .dataframe thead th {\n",
       "        text-align: right;\n",
       "    }\n",
       "</style>\n",
       "<table border=\"1\" class=\"dataframe\">\n",
       "  <thead>\n",
       "    <tr style=\"text-align: right;\">\n",
       "      <th></th>\n",
       "      <th>report_date</th>\n",
       "      <th>load_type</th>\n",
       "      <th>load_time</th>\n",
       "      <th>load_weight</th>\n",
       "      <th>dropoff_site</th>\n",
       "    </tr>\n",
       "  </thead>\n",
       "  <tbody>\n",
       "    <tr>\n",
       "      <th>19227</th>\n",
       "      <td>2021-01-02</td>\n",
       "      <td>ORGANICS</td>\n",
       "      <td>2021-01-02 09:51:00.000000 UTC</td>\n",
       "      <td>16760.0</td>\n",
       "      <td>ORGANICS BY GOSH</td>\n",
       "    </tr>\n",
       "    <tr>\n",
       "      <th>19159</th>\n",
       "      <td>2021-01-02</td>\n",
       "      <td>GARBAGE COLLECTIONS</td>\n",
       "      <td>2021-01-02 02:00:00.000000 UTC</td>\n",
       "      <td>10580.0</td>\n",
       "      <td>TDS LANDFILL</td>\n",
       "    </tr>\n",
       "    <tr>\n",
       "      <th>19160</th>\n",
       "      <td>2021-01-02</td>\n",
       "      <td>GARBAGE COLLECTIONS</td>\n",
       "      <td>2021-01-02 12:55:00.000000 UTC</td>\n",
       "      <td>21300.0</td>\n",
       "      <td>TDS LANDFILL</td>\n",
       "    </tr>\n",
       "    <tr>\n",
       "      <th>19161</th>\n",
       "      <td>2021-01-02</td>\n",
       "      <td>GARBAGE COLLECTIONS</td>\n",
       "      <td>2021-01-02 12:56:00.000000 UTC</td>\n",
       "      <td>17160.0</td>\n",
       "      <td>TDS LANDFILL</td>\n",
       "    </tr>\n",
       "    <tr>\n",
       "      <th>19162</th>\n",
       "      <td>2021-01-02</td>\n",
       "      <td>GARBAGE COLLECTIONS</td>\n",
       "      <td>2021-01-02 01:42:00.000000 UTC</td>\n",
       "      <td>15240.0</td>\n",
       "      <td>TDS LANDFILL</td>\n",
       "    </tr>\n",
       "    <tr>\n",
       "      <th>...</th>\n",
       "      <td>...</td>\n",
       "      <td>...</td>\n",
       "      <td>...</td>\n",
       "      <td>...</td>\n",
       "      <td>...</td>\n",
       "    </tr>\n",
       "    <tr>\n",
       "      <th>211</th>\n",
       "      <td>2021-07-09</td>\n",
       "      <td>BRUSH</td>\n",
       "      <td>2021-07-09 06:00:00.000000 UTC</td>\n",
       "      <td>5500.0</td>\n",
       "      <td>HORNSBY BEND</td>\n",
       "    </tr>\n",
       "    <tr>\n",
       "      <th>207</th>\n",
       "      <td>2021-07-09</td>\n",
       "      <td>BRUSH</td>\n",
       "      <td>2021-07-09 02:57:00.000000 UTC</td>\n",
       "      <td>5500.0</td>\n",
       "      <td>HORNSBY BEND</td>\n",
       "    </tr>\n",
       "    <tr>\n",
       "      <th>208</th>\n",
       "      <td>2021-07-09</td>\n",
       "      <td>BRUSH</td>\n",
       "      <td>2021-07-09 03:45:00.000000 UTC</td>\n",
       "      <td>5500.0</td>\n",
       "      <td>HORNSBY BEND</td>\n",
       "    </tr>\n",
       "    <tr>\n",
       "      <th>217</th>\n",
       "      <td>2021-07-09</td>\n",
       "      <td>BRUSH</td>\n",
       "      <td>2021-07-09 06:20:00.000000 UTC</td>\n",
       "      <td>5500.0</td>\n",
       "      <td>HORNSBY BEND</td>\n",
       "    </tr>\n",
       "    <tr>\n",
       "      <th>206</th>\n",
       "      <td>2021-07-09</td>\n",
       "      <td>BRUSH</td>\n",
       "      <td>2021-07-09 05:40:00.000000 UTC</td>\n",
       "      <td>5500.0</td>\n",
       "      <td>HORNSBY BEND</td>\n",
       "    </tr>\n",
       "  </tbody>\n",
       "</table>\n",
       "<p>25109 rows × 5 columns</p>\n",
       "</div>"
      ],
      "text/plain": [
       "      report_date            load_type                       load_time  \\\n",
       "19227  2021-01-02             ORGANICS  2021-01-02 09:51:00.000000 UTC   \n",
       "19159  2021-01-02  GARBAGE COLLECTIONS  2021-01-02 02:00:00.000000 UTC   \n",
       "19160  2021-01-02  GARBAGE COLLECTIONS  2021-01-02 12:55:00.000000 UTC   \n",
       "19161  2021-01-02  GARBAGE COLLECTIONS  2021-01-02 12:56:00.000000 UTC   \n",
       "19162  2021-01-02  GARBAGE COLLECTIONS  2021-01-02 01:42:00.000000 UTC   \n",
       "...           ...                  ...                             ...   \n",
       "211    2021-07-09                BRUSH  2021-07-09 06:00:00.000000 UTC   \n",
       "207    2021-07-09                BRUSH  2021-07-09 02:57:00.000000 UTC   \n",
       "208    2021-07-09                BRUSH  2021-07-09 03:45:00.000000 UTC   \n",
       "217    2021-07-09                BRUSH  2021-07-09 06:20:00.000000 UTC   \n",
       "206    2021-07-09                BRUSH  2021-07-09 05:40:00.000000 UTC   \n",
       "\n",
       "       load_weight      dropoff_site  \n",
       "19227      16760.0  ORGANICS BY GOSH  \n",
       "19159      10580.0      TDS LANDFILL  \n",
       "19160      21300.0      TDS LANDFILL  \n",
       "19161      17160.0      TDS LANDFILL  \n",
       "19162      15240.0      TDS LANDFILL  \n",
       "...            ...               ...  \n",
       "211         5500.0      HORNSBY BEND  \n",
       "207         5500.0      HORNSBY BEND  \n",
       "208         5500.0      HORNSBY BEND  \n",
       "217         5500.0      HORNSBY BEND  \n",
       "206         5500.0      HORNSBY BEND  \n",
       "\n",
       "[25109 rows x 5 columns]"
      ]
     },
     "execution_count": 95,
     "metadata": {},
     "output_type": "execute_result"
    }
   ],
   "source": [
    "df.sort_values(by='report_date', inplace=True, ascending=True) \n",
    "df"
   ]
  },
  {
   "cell_type": "code",
   "execution_count": 96,
   "metadata": {},
   "outputs": [
    {
     "data": {
      "text/html": [
       "<div>\n",
       "<style scoped>\n",
       "    .dataframe tbody tr th:only-of-type {\n",
       "        vertical-align: middle;\n",
       "    }\n",
       "\n",
       "    .dataframe tbody tr th {\n",
       "        vertical-align: top;\n",
       "    }\n",
       "\n",
       "    .dataframe thead th {\n",
       "        text-align: right;\n",
       "    }\n",
       "</style>\n",
       "<table border=\"1\" class=\"dataframe\">\n",
       "  <thead>\n",
       "    <tr style=\"text-align: right;\">\n",
       "      <th></th>\n",
       "      <th>report_date</th>\n",
       "      <th>load_type</th>\n",
       "      <th>load_time</th>\n",
       "      <th>load_weight</th>\n",
       "      <th>dropoff_site</th>\n",
       "    </tr>\n",
       "  </thead>\n",
       "  <tbody>\n",
       "    <tr>\n",
       "      <th>0</th>\n",
       "      <td>2021-01-02</td>\n",
       "      <td>ORGANICS</td>\n",
       "      <td>2021-01-02 09:51:00.000000 UTC</td>\n",
       "      <td>16760.0</td>\n",
       "      <td>ORGANICS BY GOSH</td>\n",
       "    </tr>\n",
       "    <tr>\n",
       "      <th>1</th>\n",
       "      <td>2021-01-02</td>\n",
       "      <td>GARBAGE COLLECTIONS</td>\n",
       "      <td>2021-01-02 02:00:00.000000 UTC</td>\n",
       "      <td>10580.0</td>\n",
       "      <td>TDS LANDFILL</td>\n",
       "    </tr>\n",
       "    <tr>\n",
       "      <th>2</th>\n",
       "      <td>2021-01-02</td>\n",
       "      <td>GARBAGE COLLECTIONS</td>\n",
       "      <td>2021-01-02 12:55:00.000000 UTC</td>\n",
       "      <td>21300.0</td>\n",
       "      <td>TDS LANDFILL</td>\n",
       "    </tr>\n",
       "    <tr>\n",
       "      <th>3</th>\n",
       "      <td>2021-01-02</td>\n",
       "      <td>GARBAGE COLLECTIONS</td>\n",
       "      <td>2021-01-02 12:56:00.000000 UTC</td>\n",
       "      <td>17160.0</td>\n",
       "      <td>TDS LANDFILL</td>\n",
       "    </tr>\n",
       "    <tr>\n",
       "      <th>4</th>\n",
       "      <td>2021-01-02</td>\n",
       "      <td>GARBAGE COLLECTIONS</td>\n",
       "      <td>2021-01-02 01:42:00.000000 UTC</td>\n",
       "      <td>15240.0</td>\n",
       "      <td>TDS LANDFILL</td>\n",
       "    </tr>\n",
       "    <tr>\n",
       "      <th>...</th>\n",
       "      <td>...</td>\n",
       "      <td>...</td>\n",
       "      <td>...</td>\n",
       "      <td>...</td>\n",
       "      <td>...</td>\n",
       "    </tr>\n",
       "    <tr>\n",
       "      <th>25104</th>\n",
       "      <td>2021-07-09</td>\n",
       "      <td>BRUSH</td>\n",
       "      <td>2021-07-09 06:00:00.000000 UTC</td>\n",
       "      <td>5500.0</td>\n",
       "      <td>HORNSBY BEND</td>\n",
       "    </tr>\n",
       "    <tr>\n",
       "      <th>25105</th>\n",
       "      <td>2021-07-09</td>\n",
       "      <td>BRUSH</td>\n",
       "      <td>2021-07-09 02:57:00.000000 UTC</td>\n",
       "      <td>5500.0</td>\n",
       "      <td>HORNSBY BEND</td>\n",
       "    </tr>\n",
       "    <tr>\n",
       "      <th>25106</th>\n",
       "      <td>2021-07-09</td>\n",
       "      <td>BRUSH</td>\n",
       "      <td>2021-07-09 03:45:00.000000 UTC</td>\n",
       "      <td>5500.0</td>\n",
       "      <td>HORNSBY BEND</td>\n",
       "    </tr>\n",
       "    <tr>\n",
       "      <th>25107</th>\n",
       "      <td>2021-07-09</td>\n",
       "      <td>BRUSH</td>\n",
       "      <td>2021-07-09 06:20:00.000000 UTC</td>\n",
       "      <td>5500.0</td>\n",
       "      <td>HORNSBY BEND</td>\n",
       "    </tr>\n",
       "    <tr>\n",
       "      <th>25108</th>\n",
       "      <td>2021-07-09</td>\n",
       "      <td>BRUSH</td>\n",
       "      <td>2021-07-09 05:40:00.000000 UTC</td>\n",
       "      <td>5500.0</td>\n",
       "      <td>HORNSBY BEND</td>\n",
       "    </tr>\n",
       "  </tbody>\n",
       "</table>\n",
       "<p>25109 rows × 5 columns</p>\n",
       "</div>"
      ],
      "text/plain": [
       "      report_date            load_type                       load_time  \\\n",
       "0      2021-01-02             ORGANICS  2021-01-02 09:51:00.000000 UTC   \n",
       "1      2021-01-02  GARBAGE COLLECTIONS  2021-01-02 02:00:00.000000 UTC   \n",
       "2      2021-01-02  GARBAGE COLLECTIONS  2021-01-02 12:55:00.000000 UTC   \n",
       "3      2021-01-02  GARBAGE COLLECTIONS  2021-01-02 12:56:00.000000 UTC   \n",
       "4      2021-01-02  GARBAGE COLLECTIONS  2021-01-02 01:42:00.000000 UTC   \n",
       "...           ...                  ...                             ...   \n",
       "25104  2021-07-09                BRUSH  2021-07-09 06:00:00.000000 UTC   \n",
       "25105  2021-07-09                BRUSH  2021-07-09 02:57:00.000000 UTC   \n",
       "25106  2021-07-09                BRUSH  2021-07-09 03:45:00.000000 UTC   \n",
       "25107  2021-07-09                BRUSH  2021-07-09 06:20:00.000000 UTC   \n",
       "25108  2021-07-09                BRUSH  2021-07-09 05:40:00.000000 UTC   \n",
       "\n",
       "       load_weight      dropoff_site  \n",
       "0          16760.0  ORGANICS BY GOSH  \n",
       "1          10580.0      TDS LANDFILL  \n",
       "2          21300.0      TDS LANDFILL  \n",
       "3          17160.0      TDS LANDFILL  \n",
       "4          15240.0      TDS LANDFILL  \n",
       "...            ...               ...  \n",
       "25104       5500.0      HORNSBY BEND  \n",
       "25105       5500.0      HORNSBY BEND  \n",
       "25106       5500.0      HORNSBY BEND  \n",
       "25107       5500.0      HORNSBY BEND  \n",
       "25108       5500.0      HORNSBY BEND  \n",
       "\n",
       "[25109 rows x 5 columns]"
      ]
     },
     "execution_count": 96,
     "metadata": {},
     "output_type": "execute_result"
    }
   ],
   "source": [
    "df.reset_index(inplace=True, drop=True)\n",
    "df"
   ]
  },
  {
   "cell_type": "markdown",
   "metadata": {},
   "source": [
    "**DATA EXPLORATION**"
   ]
  },
  {
   "cell_type": "code",
   "execution_count": 97,
   "metadata": {},
   "outputs": [
    {
     "data": {
      "text/plain": [
       "0       2021-01-02\n",
       "1       2021-01-02\n",
       "2       2021-01-02\n",
       "3       2021-01-02\n",
       "4       2021-01-02\n",
       "           ...    \n",
       "25104   2021-07-09\n",
       "25105   2021-07-09\n",
       "25106   2021-07-09\n",
       "25107   2021-07-09\n",
       "25108   2021-07-09\n",
       "Name: report_date, Length: 25109, dtype: datetime64[ns]"
      ]
     },
     "execution_count": 97,
     "metadata": {},
     "output_type": "execute_result"
    }
   ],
   "source": [
    "df['report_date']"
   ]
  },
  {
   "cell_type": "code",
   "execution_count": 98,
   "metadata": {},
   "outputs": [
    {
     "data": {
      "text/plain": [
       "DatetimeIndex(['2021-01-02', '2021-01-03', '2021-01-04', '2021-01-05',\n",
       "               '2021-01-06', '2021-01-07', '2021-01-08', '2021-01-09',\n",
       "               '2021-01-10', '2021-01-11',\n",
       "               ...\n",
       "               '2021-06-30', '2021-07-01', '2021-07-02', '2021-07-03',\n",
       "               '2021-07-04', '2021-07-05', '2021-07-06', '2021-07-07',\n",
       "               '2021-07-08', '2021-07-09'],\n",
       "              dtype='datetime64[ns]', length=189, freq='D')"
      ]
     },
     "execution_count": 98,
     "metadata": {},
     "output_type": "execute_result"
    }
   ],
   "source": [
    "daterange = pd.date_range(start = '2021-01-02', end = '2021-07-09')\n",
    "daterange"
   ]
  },
  {
   "cell_type": "code",
   "execution_count": 99,
   "metadata": {},
   "outputs": [
    {
     "data": {
      "text/plain": [
       "array(['ORGANICS', 'GARBAGE COLLECTIONS', 'MIXED LITTER', 'DEAD ANIMAL',\n",
       "       'BULK', 'RECYCLING - SINGLE STREAM', 'TIRES', 'YARD TRIMMING',\n",
       "       'BRUSH', 'SWEEPING', 'RECYCLED METAL', 'LITTER',\n",
       "       'CONTAMINATED RECYCLING', 'CONTAMINATED ORGANICS'], dtype=object)"
      ]
     },
     "execution_count": 99,
     "metadata": {},
     "output_type": "execute_result"
    }
   ],
   "source": [
    "df.load_type.unique()"
   ]
  },
  {
   "cell_type": "markdown",
   "metadata": {},
   "source": [
    "Melihat jumlah load disetiap load type"
   ]
  },
  {
   "cell_type": "code",
   "execution_count": 100,
   "metadata": {},
   "outputs": [
    {
     "data": {
      "text/html": [
       "<div>\n",
       "<style scoped>\n",
       "    .dataframe tbody tr th:only-of-type {\n",
       "        vertical-align: middle;\n",
       "    }\n",
       "\n",
       "    .dataframe tbody tr th {\n",
       "        vertical-align: top;\n",
       "    }\n",
       "\n",
       "    .dataframe thead th {\n",
       "        text-align: right;\n",
       "    }\n",
       "</style>\n",
       "<table border=\"1\" class=\"dataframe\">\n",
       "  <thead>\n",
       "    <tr style=\"text-align: right;\">\n",
       "      <th></th>\n",
       "      <th>load_type</th>\n",
       "    </tr>\n",
       "  </thead>\n",
       "  <tbody>\n",
       "    <tr>\n",
       "      <th>GARBAGE COLLECTIONS</th>\n",
       "      <td>8241</td>\n",
       "    </tr>\n",
       "    <tr>\n",
       "      <th>RECYCLING - SINGLE STREAM</th>\n",
       "      <td>6760</td>\n",
       "    </tr>\n",
       "    <tr>\n",
       "      <th>ORGANICS</th>\n",
       "      <td>5749</td>\n",
       "    </tr>\n",
       "    <tr>\n",
       "      <th>BULK</th>\n",
       "      <td>1594</td>\n",
       "    </tr>\n",
       "    <tr>\n",
       "      <th>BRUSH</th>\n",
       "      <td>1514</td>\n",
       "    </tr>\n",
       "    <tr>\n",
       "      <th>SWEEPING</th>\n",
       "      <td>360</td>\n",
       "    </tr>\n",
       "    <tr>\n",
       "      <th>MIXED LITTER</th>\n",
       "      <td>329</td>\n",
       "    </tr>\n",
       "    <tr>\n",
       "      <th>TIRES</th>\n",
       "      <td>175</td>\n",
       "    </tr>\n",
       "    <tr>\n",
       "      <th>DEAD ANIMAL</th>\n",
       "      <td>150</td>\n",
       "    </tr>\n",
       "    <tr>\n",
       "      <th>YARD TRIMMING</th>\n",
       "      <td>137</td>\n",
       "    </tr>\n",
       "    <tr>\n",
       "      <th>RECYCLED METAL</th>\n",
       "      <td>57</td>\n",
       "    </tr>\n",
       "    <tr>\n",
       "      <th>LITTER</th>\n",
       "      <td>41</td>\n",
       "    </tr>\n",
       "    <tr>\n",
       "      <th>CONTAMINATED RECYCLING</th>\n",
       "      <td>1</td>\n",
       "    </tr>\n",
       "    <tr>\n",
       "      <th>CONTAMINATED ORGANICS</th>\n",
       "      <td>1</td>\n",
       "    </tr>\n",
       "  </tbody>\n",
       "</table>\n",
       "</div>"
      ],
      "text/plain": [
       "                           load_type\n",
       "GARBAGE COLLECTIONS             8241\n",
       "RECYCLING - SINGLE STREAM       6760\n",
       "ORGANICS                        5749\n",
       "BULK                            1594\n",
       "BRUSH                           1514\n",
       "SWEEPING                         360\n",
       "MIXED LITTER                     329\n",
       "TIRES                            175\n",
       "DEAD ANIMAL                      150\n",
       "YARD TRIMMING                    137\n",
       "RECYCLED METAL                    57\n",
       "LITTER                            41\n",
       "CONTAMINATED RECYCLING             1\n",
       "CONTAMINATED ORGANICS              1"
      ]
     },
     "execution_count": 100,
     "metadata": {},
     "output_type": "execute_result"
    }
   ],
   "source": [
    "df['load_type'].value_counts().to_frame()"
   ]
  },
  {
   "cell_type": "code",
   "execution_count": 101,
   "metadata": {},
   "outputs": [
    {
     "data": {
      "text/plain": [
       "array(['ORGANICS BY GOSH', 'TDS LANDFILL', 'BALCONES RECYCLING', 'MRF',\n",
       "       'TDS - MRF', 'HORNSBY BEND', 'AUSTIN IRON AND METAL',\n",
       "       'GREAT NORTHERN', 'AUSTIN WOOD RECYCLING', 'PARK BEND',\n",
       "       'ON ROUTE HIGH DUMP', 'BALCONES WOODS', 'STEINER LANDFILL',\n",
       "       'WESTFIELD'], dtype=object)"
      ]
     },
     "execution_count": 101,
     "metadata": {},
     "output_type": "execute_result"
    }
   ],
   "source": [
    "df.dropoff_site.unique()"
   ]
  },
  {
   "cell_type": "markdown",
   "metadata": {},
   "source": [
    "Disini yang kita ketahui kita memeliki 14 site untuk di "
   ]
  },
  {
   "cell_type": "code",
   "execution_count": 102,
   "metadata": {},
   "outputs": [
    {
     "data": {
      "text/html": [
       "<div>\n",
       "<style scoped>\n",
       "    .dataframe tbody tr th:only-of-type {\n",
       "        vertical-align: middle;\n",
       "    }\n",
       "\n",
       "    .dataframe tbody tr th {\n",
       "        vertical-align: top;\n",
       "    }\n",
       "\n",
       "    .dataframe thead th {\n",
       "        text-align: right;\n",
       "    }\n",
       "</style>\n",
       "<table border=\"1\" class=\"dataframe\">\n",
       "  <thead>\n",
       "    <tr style=\"text-align: right;\">\n",
       "      <th></th>\n",
       "      <th>dropoff_site</th>\n",
       "    </tr>\n",
       "  </thead>\n",
       "  <tbody>\n",
       "    <tr>\n",
       "      <th>TDS LANDFILL</th>\n",
       "      <td>10691</td>\n",
       "    </tr>\n",
       "    <tr>\n",
       "      <th>ORGANICS BY GOSH</th>\n",
       "      <td>5741</td>\n",
       "    </tr>\n",
       "    <tr>\n",
       "      <th>BALCONES RECYCLING</th>\n",
       "      <td>3837</td>\n",
       "    </tr>\n",
       "    <tr>\n",
       "      <th>TDS - MRF</th>\n",
       "      <td>2948</td>\n",
       "    </tr>\n",
       "    <tr>\n",
       "      <th>HORNSBY BEND</th>\n",
       "      <td>1652</td>\n",
       "    </tr>\n",
       "    <tr>\n",
       "      <th>MRF</th>\n",
       "      <td>168</td>\n",
       "    </tr>\n",
       "    <tr>\n",
       "      <th>AUSTIN IRON AND METAL</th>\n",
       "      <td>50</td>\n",
       "    </tr>\n",
       "    <tr>\n",
       "      <th>ON ROUTE HIGH DUMP</th>\n",
       "      <td>7</td>\n",
       "    </tr>\n",
       "    <tr>\n",
       "      <th>GREAT NORTHERN</th>\n",
       "      <td>6</td>\n",
       "    </tr>\n",
       "    <tr>\n",
       "      <th>PARK BEND</th>\n",
       "      <td>4</td>\n",
       "    </tr>\n",
       "    <tr>\n",
       "      <th>AUSTIN WOOD RECYCLING</th>\n",
       "      <td>2</td>\n",
       "    </tr>\n",
       "    <tr>\n",
       "      <th>BALCONES WOODS</th>\n",
       "      <td>1</td>\n",
       "    </tr>\n",
       "    <tr>\n",
       "      <th>STEINER LANDFILL</th>\n",
       "      <td>1</td>\n",
       "    </tr>\n",
       "    <tr>\n",
       "      <th>WESTFIELD</th>\n",
       "      <td>1</td>\n",
       "    </tr>\n",
       "  </tbody>\n",
       "</table>\n",
       "</div>"
      ],
      "text/plain": [
       "                       dropoff_site\n",
       "TDS LANDFILL                  10691\n",
       "ORGANICS BY GOSH               5741\n",
       "BALCONES RECYCLING             3837\n",
       "TDS - MRF                      2948\n",
       "HORNSBY BEND                   1652\n",
       "MRF                             168\n",
       "AUSTIN IRON AND METAL            50\n",
       "ON ROUTE HIGH DUMP                7\n",
       "GREAT NORTHERN                    6\n",
       "PARK BEND                         4\n",
       "AUSTIN WOOD RECYCLING             2\n",
       "BALCONES WOODS                    1\n",
       "STEINER LANDFILL                  1\n",
       "WESTFIELD                         1"
      ]
     },
     "execution_count": 102,
     "metadata": {},
     "output_type": "execute_result"
    }
   ],
   "source": [
    "df['dropoff_site'].value_counts().to_frame()"
   ]
  },
  {
   "cell_type": "markdown",
   "metadata": {},
   "source": [
    "Melihat jumlah load terbesar"
   ]
  },
  {
   "cell_type": "code",
   "execution_count": 103,
   "metadata": {},
   "outputs": [
    {
     "data": {
      "text/plain": [
       "245540.0"
      ]
     },
     "execution_count": 103,
     "metadata": {},
     "output_type": "execute_result"
    }
   ],
   "source": [
    "df['load_weight'].max()"
   ]
  },
  {
   "cell_type": "markdown",
   "metadata": {},
   "source": [
    "melihat jumlah load terkecil"
   ]
  },
  {
   "cell_type": "code",
   "execution_count": 104,
   "metadata": {},
   "outputs": [
    {
     "data": {
      "text/plain": [
       "0.0"
      ]
     },
     "execution_count": 104,
     "metadata": {},
     "output_type": "execute_result"
    }
   ],
   "source": [
    "df['load_weight'].min()"
   ]
  },
  {
   "cell_type": "markdown",
   "metadata": {},
   "source": [
    "**CENTRAL TENDENCY**"
   ]
  },
  {
   "cell_type": "markdown",
   "metadata": {},
   "source": [
    "membagi tabel antara tanggal dan jumlah load yang masuk setiap tanggalnya"
   ]
  },
  {
   "cell_type": "code",
   "execution_count": 105,
   "metadata": {},
   "outputs": [
    {
     "data": {
      "text/plain": [
       "report_date\n",
       "2021-01-02    13822.484076\n",
       "2021-01-04    13840.094787\n",
       "2021-01-05    12705.000000\n",
       "2021-01-06    13314.166667\n",
       "2021-01-07    13397.417582\n",
       "                  ...     \n",
       "2021-07-05    13267.762238\n",
       "2021-07-06    12010.250000\n",
       "2021-07-07    11173.237410\n",
       "2021-07-08    12657.589286\n",
       "2021-07-09     5730.476190\n",
       "Name: load_weight, Length: 165, dtype: float64"
      ]
     },
     "execution_count": 105,
     "metadata": {},
     "output_type": "execute_result"
    }
   ],
   "source": [
    "df.groupby(by = 'report_date', sort = True)['load_weight'].mean()"
   ]
  },
  {
   "cell_type": "markdown",
   "metadata": {},
   "source": [
    "mengabungkan untuk melihat jumlah load yang masuk di setiap sitenya sesuai dengan mean-nya"
   ]
  },
  {
   "cell_type": "code",
   "execution_count": 106,
   "metadata": {},
   "outputs": [
    {
     "data": {
      "text/plain": [
       "dropoff_site\n",
       "AUSTIN IRON AND METAL      451.200000\n",
       "AUSTIN WOOD RECYCLING     4050.000000\n",
       "BALCONES RECYCLING        9464.652072\n",
       "BALCONES WOODS            8460.000000\n",
       "GREAT NORTHERN           19153.333333\n",
       "HORNSBY BEND              6628.644068\n",
       "MRF                       1799.982143\n",
       "ON ROUTE HIGH DUMP       12525.714286\n",
       "ORGANICS BY GOSH         11818.482146\n",
       "PARK BEND                13385.000000\n",
       "STEINER LANDFILL           780.000000\n",
       "TDS - MRF                 9872.550882\n",
       "TDS LANDFILL             15169.407215\n",
       "WESTFIELD                16020.000000\n",
       "Name: load_weight, dtype: float64"
      ]
     },
     "execution_count": 106,
     "metadata": {},
     "output_type": "execute_result"
    }
   ],
   "source": [
    "df.groupby(by = 'dropoff_site', sort = True)['load_weight'].mean()"
   ]
  },
  {
   "cell_type": "markdown",
   "metadata": {},
   "source": [
    "mengabungkan untuk melihat jumlah load yang masuk di setiap sitenya sesuai dengan medeianya"
   ]
  },
  {
   "cell_type": "code",
   "execution_count": 107,
   "metadata": {},
   "outputs": [
    {
     "data": {
      "text/plain": [
       "dropoff_site\n",
       "AUSTIN IRON AND METAL      400.0\n",
       "AUSTIN WOOD RECYCLING     4050.0\n",
       "BALCONES RECYCLING        9840.0\n",
       "BALCONES WOODS            8460.0\n",
       "GREAT NORTHERN           21110.0\n",
       "HORNSBY BEND              6390.0\n",
       "MRF                       1360.0\n",
       "ON ROUTE HIGH DUMP       14940.0\n",
       "ORGANICS BY GOSH         11920.0\n",
       "PARK BEND                12330.0\n",
       "STEINER LANDFILL           780.0\n",
       "TDS - MRF                10330.0\n",
       "TDS LANDFILL             14920.0\n",
       "WESTFIELD                16020.0\n",
       "Name: load_weight, dtype: float64"
      ]
     },
     "execution_count": 107,
     "metadata": {},
     "output_type": "execute_result"
    }
   ],
   "source": [
    "df.groupby(by = 'dropoff_site', sort = True)['load_weight'].median()"
   ]
  },
  {
   "cell_type": "markdown",
   "metadata": {},
   "source": [
    "melihat berapa kali dan total setiap load yang masuk ke setiap site"
   ]
  },
  {
   "cell_type": "code",
   "execution_count": 108,
   "metadata": {},
   "outputs": [
    {
     "data": {
      "text/plain": [
       "dropoff_site            \n",
       "AUSTIN IRON AND METAL  0      260.0\n",
       "                       1      320.0\n",
       "                       2      520.0\n",
       "AUSTIN WOOD RECYCLING  0     2340.0\n",
       "                       1     5760.0\n",
       "BALCONES RECYCLING     0    11880.0\n",
       "BALCONES WOODS         0     8460.0\n",
       "GREAT NORTHERN         0     8700.0\n",
       "                       1    17160.0\n",
       "                       2    20900.0\n",
       "                       3    21320.0\n",
       "                       4    21960.0\n",
       "                       5    24880.0\n",
       "HORNSBY BEND           0     5500.0\n",
       "MRF                    0      960.0\n",
       "ON ROUTE HIGH DUMP     0     4060.0\n",
       "                       1     7480.0\n",
       "                       2    12500.0\n",
       "                       3    14940.0\n",
       "                       4    15040.0\n",
       "                       5    15200.0\n",
       "                       6    18460.0\n",
       "ORGANICS BY GOSH       0    14580.0\n",
       "PARK BEND              0     8480.0\n",
       "                       1     8960.0\n",
       "                       2    15700.0\n",
       "                       3    20400.0\n",
       "STEINER LANDFILL       0      780.0\n",
       "TDS - MRF              0    10360.0\n",
       "TDS LANDFILL           0       20.0\n",
       "                       1       60.0\n",
       "                       2    12020.0\n",
       "WESTFIELD              0    16020.0\n",
       "Name: load_weight, dtype: float64"
      ]
     },
     "execution_count": 108,
     "metadata": {},
     "output_type": "execute_result"
    }
   ],
   "source": [
    "df.groupby(by = 'dropoff_site', sort = True)['load_weight'].apply(pd.Series.mode)"
   ]
  },
  {
   "cell_type": "markdown",
   "metadata": {},
   "source": []
  },
  {
   "cell_type": "code",
   "execution_count": 109,
   "metadata": {},
   "outputs": [
    {
     "data": {
      "text/plain": [
       "GARBAGE COLLECTIONS          8241\n",
       "RECYCLING - SINGLE STREAM    6760\n",
       "ORGANICS                     5749\n",
       "BULK                         1594\n",
       "BRUSH                        1514\n",
       "SWEEPING                      360\n",
       "MIXED LITTER                  329\n",
       "TIRES                         175\n",
       "DEAD ANIMAL                   150\n",
       "YARD TRIMMING                 137\n",
       "RECYCLED METAL                 57\n",
       "LITTER                         41\n",
       "CONTAMINATED RECYCLING          1\n",
       "CONTAMINATED ORGANICS           1\n",
       "Name: load_type, dtype: int64"
      ]
     },
     "execution_count": 109,
     "metadata": {},
     "output_type": "execute_result"
    }
   ],
   "source": [
    "df['load_type'].value_counts()"
   ]
  },
  {
   "cell_type": "code",
   "execution_count": 110,
   "metadata": {},
   "outputs": [
    {
     "data": {
      "text/html": [
       "<div>\n",
       "<style scoped>\n",
       "    .dataframe tbody tr th:only-of-type {\n",
       "        vertical-align: middle;\n",
       "    }\n",
       "\n",
       "    .dataframe tbody tr th {\n",
       "        vertical-align: top;\n",
       "    }\n",
       "\n",
       "    .dataframe thead th {\n",
       "        text-align: right;\n",
       "    }\n",
       "</style>\n",
       "<table border=\"1\" class=\"dataframe\">\n",
       "  <thead>\n",
       "    <tr style=\"text-align: right;\">\n",
       "      <th></th>\n",
       "      <th>report_date</th>\n",
       "      <th>load_type</th>\n",
       "      <th>load_time</th>\n",
       "      <th>load_weight</th>\n",
       "      <th>dropoff_site</th>\n",
       "    </tr>\n",
       "  </thead>\n",
       "  <tbody>\n",
       "    <tr>\n",
       "      <th>0</th>\n",
       "      <td>2021-01-02</td>\n",
       "      <td>ORGANICS</td>\n",
       "      <td>2021-01-02 09:51:00.000000 UTC</td>\n",
       "      <td>16760.0</td>\n",
       "      <td>ORGANICS BY GOSH</td>\n",
       "    </tr>\n",
       "    <tr>\n",
       "      <th>9</th>\n",
       "      <td>2021-01-02</td>\n",
       "      <td>ORGANICS</td>\n",
       "      <td>2021-01-04 07:20:00.000000 UTC</td>\n",
       "      <td>6200.0</td>\n",
       "      <td>ORGANICS BY GOSH</td>\n",
       "    </tr>\n",
       "    <tr>\n",
       "      <th>10</th>\n",
       "      <td>2021-01-02</td>\n",
       "      <td>ORGANICS</td>\n",
       "      <td>2021-01-02 03:25:00.000000 UTC</td>\n",
       "      <td>16800.0</td>\n",
       "      <td>ORGANICS BY GOSH</td>\n",
       "    </tr>\n",
       "    <tr>\n",
       "      <th>22</th>\n",
       "      <td>2021-01-02</td>\n",
       "      <td>ORGANICS</td>\n",
       "      <td>2021-01-02 11:08:00.000000 UTC</td>\n",
       "      <td>20560.0</td>\n",
       "      <td>ORGANICS BY GOSH</td>\n",
       "    </tr>\n",
       "    <tr>\n",
       "      <th>23</th>\n",
       "      <td>2021-01-02</td>\n",
       "      <td>ORGANICS</td>\n",
       "      <td>2021-01-04 07:24:00.000000 UTC</td>\n",
       "      <td>21440.0</td>\n",
       "      <td>ORGANICS BY GOSH</td>\n",
       "    </tr>\n",
       "    <tr>\n",
       "      <th>...</th>\n",
       "      <td>...</td>\n",
       "      <td>...</td>\n",
       "      <td>...</td>\n",
       "      <td>...</td>\n",
       "      <td>...</td>\n",
       "    </tr>\n",
       "    <tr>\n",
       "      <th>25061</th>\n",
       "      <td>2021-07-08</td>\n",
       "      <td>ORGANICS</td>\n",
       "      <td>2021-07-09 02:53:00.000000 UTC</td>\n",
       "      <td>12080.0</td>\n",
       "      <td>ORGANICS BY GOSH</td>\n",
       "    </tr>\n",
       "    <tr>\n",
       "      <th>25062</th>\n",
       "      <td>2021-07-08</td>\n",
       "      <td>ORGANICS</td>\n",
       "      <td>2021-07-08 04:08:00.000000 UTC</td>\n",
       "      <td>14980.0</td>\n",
       "      <td>ORGANICS BY GOSH</td>\n",
       "    </tr>\n",
       "    <tr>\n",
       "      <th>25063</th>\n",
       "      <td>2021-07-08</td>\n",
       "      <td>ORGANICS</td>\n",
       "      <td>2021-07-08 03:32:00.000000 UTC</td>\n",
       "      <td>12860.0</td>\n",
       "      <td>ORGANICS BY GOSH</td>\n",
       "    </tr>\n",
       "    <tr>\n",
       "      <th>25064</th>\n",
       "      <td>2021-07-08</td>\n",
       "      <td>ORGANICS</td>\n",
       "      <td>2021-07-08 03:28:00.000000 UTC</td>\n",
       "      <td>9470.0</td>\n",
       "      <td>ORGANICS BY GOSH</td>\n",
       "    </tr>\n",
       "    <tr>\n",
       "      <th>25065</th>\n",
       "      <td>2021-07-08</td>\n",
       "      <td>ORGANICS</td>\n",
       "      <td>2021-07-08 03:55:00.000000 UTC</td>\n",
       "      <td>13900.0</td>\n",
       "      <td>ORGANICS BY GOSH</td>\n",
       "    </tr>\n",
       "  </tbody>\n",
       "</table>\n",
       "<p>5749 rows × 5 columns</p>\n",
       "</div>"
      ],
      "text/plain": [
       "      report_date load_type                       load_time  load_weight  \\\n",
       "0      2021-01-02  ORGANICS  2021-01-02 09:51:00.000000 UTC      16760.0   \n",
       "9      2021-01-02  ORGANICS  2021-01-04 07:20:00.000000 UTC       6200.0   \n",
       "10     2021-01-02  ORGANICS  2021-01-02 03:25:00.000000 UTC      16800.0   \n",
       "22     2021-01-02  ORGANICS  2021-01-02 11:08:00.000000 UTC      20560.0   \n",
       "23     2021-01-02  ORGANICS  2021-01-04 07:24:00.000000 UTC      21440.0   \n",
       "...           ...       ...                             ...          ...   \n",
       "25061  2021-07-08  ORGANICS  2021-07-09 02:53:00.000000 UTC      12080.0   \n",
       "25062  2021-07-08  ORGANICS  2021-07-08 04:08:00.000000 UTC      14980.0   \n",
       "25063  2021-07-08  ORGANICS  2021-07-08 03:32:00.000000 UTC      12860.0   \n",
       "25064  2021-07-08  ORGANICS  2021-07-08 03:28:00.000000 UTC       9470.0   \n",
       "25065  2021-07-08  ORGANICS  2021-07-08 03:55:00.000000 UTC      13900.0   \n",
       "\n",
       "           dropoff_site  \n",
       "0      ORGANICS BY GOSH  \n",
       "9      ORGANICS BY GOSH  \n",
       "10     ORGANICS BY GOSH  \n",
       "22     ORGANICS BY GOSH  \n",
       "23     ORGANICS BY GOSH  \n",
       "...                 ...  \n",
       "25061  ORGANICS BY GOSH  \n",
       "25062  ORGANICS BY GOSH  \n",
       "25063  ORGANICS BY GOSH  \n",
       "25064  ORGANICS BY GOSH  \n",
       "25065  ORGANICS BY GOSH  \n",
       "\n",
       "[5749 rows x 5 columns]"
      ]
     },
     "execution_count": 110,
     "metadata": {},
     "output_type": "execute_result"
    }
   ],
   "source": [
    "organics = df.loc[df['load_type']=='ORGANICS']\n",
    "organics"
   ]
  },
  {
   "cell_type": "markdown",
   "metadata": {},
   "source": [
    "melihat jumlah rata-rata disetiap site pembuangan khusus organic"
   ]
  },
  {
   "cell_type": "code",
   "execution_count": 111,
   "metadata": {},
   "outputs": [
    {
     "data": {
      "text/plain": [
       "dropoff_site\n",
       "HORNSBY BEND             16160.0\n",
       "ON ROUTE HIGH DUMP       87680.0\n",
       "ORGANICS BY GOSH      67744966.0\n",
       "PARK BEND                53540.0\n",
       "TDS LANDFILL             28020.0\n",
       "Name: load_weight, dtype: float64"
      ]
     },
     "execution_count": 111,
     "metadata": {},
     "output_type": "execute_result"
    }
   ],
   "source": [
    "organics_total = organics.groupby(by = 'dropoff_site', sort = True)['load_weight'].sum() \n",
    "organics_total"
   ]
  },
  {
   "cell_type": "markdown",
   "metadata": {},
   "source": [
    "disini kita tertarik dengan \"ORGANIC BY GOSH\" karna memiliki load terbesar di setiap sitenya, selanjutnya kita memisahkan dengan membuat variable baru khusus untuk gosh"
   ]
  },
  {
   "cell_type": "code",
   "execution_count": 112,
   "metadata": {},
   "outputs": [
    {
     "data": {
      "text/html": [
       "<div>\n",
       "<style scoped>\n",
       "    .dataframe tbody tr th:only-of-type {\n",
       "        vertical-align: middle;\n",
       "    }\n",
       "\n",
       "    .dataframe tbody tr th {\n",
       "        vertical-align: top;\n",
       "    }\n",
       "\n",
       "    .dataframe thead th {\n",
       "        text-align: right;\n",
       "    }\n",
       "</style>\n",
       "<table border=\"1\" class=\"dataframe\">\n",
       "  <thead>\n",
       "    <tr style=\"text-align: right;\">\n",
       "      <th></th>\n",
       "      <th>report_date</th>\n",
       "      <th>load_type</th>\n",
       "      <th>load_time</th>\n",
       "      <th>load_weight</th>\n",
       "      <th>dropoff_site</th>\n",
       "    </tr>\n",
       "  </thead>\n",
       "  <tbody>\n",
       "    <tr>\n",
       "      <th>0</th>\n",
       "      <td>2021-01-02</td>\n",
       "      <td>ORGANICS</td>\n",
       "      <td>2021-01-02 09:51:00.000000 UTC</td>\n",
       "      <td>16760.0</td>\n",
       "      <td>ORGANICS BY GOSH</td>\n",
       "    </tr>\n",
       "    <tr>\n",
       "      <th>9</th>\n",
       "      <td>2021-01-02</td>\n",
       "      <td>ORGANICS</td>\n",
       "      <td>2021-01-04 07:20:00.000000 UTC</td>\n",
       "      <td>6200.0</td>\n",
       "      <td>ORGANICS BY GOSH</td>\n",
       "    </tr>\n",
       "    <tr>\n",
       "      <th>10</th>\n",
       "      <td>2021-01-02</td>\n",
       "      <td>ORGANICS</td>\n",
       "      <td>2021-01-02 03:25:00.000000 UTC</td>\n",
       "      <td>16800.0</td>\n",
       "      <td>ORGANICS BY GOSH</td>\n",
       "    </tr>\n",
       "    <tr>\n",
       "      <th>22</th>\n",
       "      <td>2021-01-02</td>\n",
       "      <td>ORGANICS</td>\n",
       "      <td>2021-01-02 11:08:00.000000 UTC</td>\n",
       "      <td>20560.0</td>\n",
       "      <td>ORGANICS BY GOSH</td>\n",
       "    </tr>\n",
       "    <tr>\n",
       "      <th>23</th>\n",
       "      <td>2021-01-02</td>\n",
       "      <td>ORGANICS</td>\n",
       "      <td>2021-01-04 07:24:00.000000 UTC</td>\n",
       "      <td>21440.0</td>\n",
       "      <td>ORGANICS BY GOSH</td>\n",
       "    </tr>\n",
       "    <tr>\n",
       "      <th>...</th>\n",
       "      <td>...</td>\n",
       "      <td>...</td>\n",
       "      <td>...</td>\n",
       "      <td>...</td>\n",
       "      <td>...</td>\n",
       "    </tr>\n",
       "    <tr>\n",
       "      <th>25061</th>\n",
       "      <td>2021-07-08</td>\n",
       "      <td>ORGANICS</td>\n",
       "      <td>2021-07-09 02:53:00.000000 UTC</td>\n",
       "      <td>12080.0</td>\n",
       "      <td>ORGANICS BY GOSH</td>\n",
       "    </tr>\n",
       "    <tr>\n",
       "      <th>25062</th>\n",
       "      <td>2021-07-08</td>\n",
       "      <td>ORGANICS</td>\n",
       "      <td>2021-07-08 04:08:00.000000 UTC</td>\n",
       "      <td>14980.0</td>\n",
       "      <td>ORGANICS BY GOSH</td>\n",
       "    </tr>\n",
       "    <tr>\n",
       "      <th>25063</th>\n",
       "      <td>2021-07-08</td>\n",
       "      <td>ORGANICS</td>\n",
       "      <td>2021-07-08 03:32:00.000000 UTC</td>\n",
       "      <td>12860.0</td>\n",
       "      <td>ORGANICS BY GOSH</td>\n",
       "    </tr>\n",
       "    <tr>\n",
       "      <th>25064</th>\n",
       "      <td>2021-07-08</td>\n",
       "      <td>ORGANICS</td>\n",
       "      <td>2021-07-08 03:28:00.000000 UTC</td>\n",
       "      <td>9470.0</td>\n",
       "      <td>ORGANICS BY GOSH</td>\n",
       "    </tr>\n",
       "    <tr>\n",
       "      <th>25065</th>\n",
       "      <td>2021-07-08</td>\n",
       "      <td>ORGANICS</td>\n",
       "      <td>2021-07-08 03:55:00.000000 UTC</td>\n",
       "      <td>13900.0</td>\n",
       "      <td>ORGANICS BY GOSH</td>\n",
       "    </tr>\n",
       "  </tbody>\n",
       "</table>\n",
       "<p>5741 rows × 5 columns</p>\n",
       "</div>"
      ],
      "text/plain": [
       "      report_date load_type                       load_time  load_weight  \\\n",
       "0      2021-01-02  ORGANICS  2021-01-02 09:51:00.000000 UTC      16760.0   \n",
       "9      2021-01-02  ORGANICS  2021-01-04 07:20:00.000000 UTC       6200.0   \n",
       "10     2021-01-02  ORGANICS  2021-01-02 03:25:00.000000 UTC      16800.0   \n",
       "22     2021-01-02  ORGANICS  2021-01-02 11:08:00.000000 UTC      20560.0   \n",
       "23     2021-01-02  ORGANICS  2021-01-04 07:24:00.000000 UTC      21440.0   \n",
       "...           ...       ...                             ...          ...   \n",
       "25061  2021-07-08  ORGANICS  2021-07-09 02:53:00.000000 UTC      12080.0   \n",
       "25062  2021-07-08  ORGANICS  2021-07-08 04:08:00.000000 UTC      14980.0   \n",
       "25063  2021-07-08  ORGANICS  2021-07-08 03:32:00.000000 UTC      12860.0   \n",
       "25064  2021-07-08  ORGANICS  2021-07-08 03:28:00.000000 UTC       9470.0   \n",
       "25065  2021-07-08  ORGANICS  2021-07-08 03:55:00.000000 UTC      13900.0   \n",
       "\n",
       "           dropoff_site  \n",
       "0      ORGANICS BY GOSH  \n",
       "9      ORGANICS BY GOSH  \n",
       "10     ORGANICS BY GOSH  \n",
       "22     ORGANICS BY GOSH  \n",
       "23     ORGANICS BY GOSH  \n",
       "...                 ...  \n",
       "25061  ORGANICS BY GOSH  \n",
       "25062  ORGANICS BY GOSH  \n",
       "25063  ORGANICS BY GOSH  \n",
       "25064  ORGANICS BY GOSH  \n",
       "25065  ORGANICS BY GOSH  \n",
       "\n",
       "[5741 rows x 5 columns]"
      ]
     },
     "execution_count": 112,
     "metadata": {},
     "output_type": "execute_result"
    }
   ],
   "source": [
    "gosh = df.loc[df['dropoff_site']=='ORGANICS BY GOSH']\n",
    "gosh"
   ]
  },
  {
   "cell_type": "markdown",
   "metadata": {},
   "source": [
    "melihat jumlah rata-rata di sampah organics"
   ]
  },
  {
   "cell_type": "code",
   "execution_count": 113,
   "metadata": {},
   "outputs": [],
   "source": [
    "organics=organics.value_counts().sum()\n"
   ]
  },
  {
   "cell_type": "code",
   "execution_count": 114,
   "metadata": {},
   "outputs": [
    {
     "data": {
      "text/plain": [
       "5749"
      ]
     },
     "execution_count": 114,
     "metadata": {},
     "output_type": "execute_result"
    }
   ],
   "source": [
    "organics"
   ]
  },
  {
   "cell_type": "markdown",
   "metadata": {},
   "source": [
    "meluhat jumlah rata-rata di site gosh"
   ]
  },
  {
   "cell_type": "code",
   "execution_count": 115,
   "metadata": {},
   "outputs": [
    {
     "data": {
      "text/plain": [
       "5741"
      ]
     },
     "execution_count": 115,
     "metadata": {},
     "output_type": "execute_result"
    }
   ],
   "source": [
    "gosh_rate = gosh.value_counts().sum()\n",
    "gosh_rate"
   ]
  },
  {
   "cell_type": "markdown",
   "metadata": {},
   "source": [
    "melihat jumlah pengaruh di setiap sampah organics yang masuk di \"organics by gosh\"  dan terlihat setiap sampah organics masuk ke \"organics by gosh\""
   ]
  },
  {
   "cell_type": "code",
   "execution_count": 116,
   "metadata": {},
   "outputs": [
    {
     "name": "stdout",
     "output_type": "stream",
     "text": [
      "99.8608453644112 %\n"
     ]
    }
   ],
   "source": [
    "gosh_total_data = gosh_rate/organics*100\n",
    "print(gosh_total_data,'%')"
   ]
  },
  {
   "cell_type": "code",
   "execution_count": 117,
   "metadata": {},
   "outputs": [
    {
     "data": {
      "image/png": "[encoded data removed]",
      "text/plain": [
       "<Figure size 640x480 with 1 Axes>"
      ]
     },
     "metadata": {},
     "output_type": "display_data"
    }
   ],
   "source": [
    "gosh.plot.hist(title='GOSH ORGANICS', color='green', bins=20)  \n",
    "plt.axvline(gosh['load_weight'].mean(), color='yellow', linestyle='dashed', linewidth=3)\n",
    "plt.axvline(gosh['load_weight'].median(), color='blue', linestyle='dashed', linewidth=3)\n",
    "plt.show()"
   ]
  },
  {
   "cell_type": "markdown",
   "metadata": {},
   "source": [
    "dari visualisasi di atas terlihat banyak sampah organics "
   ]
  },
  {
   "cell_type": "markdown",
   "metadata": {},
   "source": [
    "selanjutnya kita melihat data outliers, dan terilah data outliers tidak terlalu banyak"
   ]
  },
  {
   "cell_type": "code",
   "execution_count": 118,
   "metadata": {},
   "outputs": [
    {
     "data": {
      "text/plain": [
       "<AxesSubplot: ylabel='load_weight'>"
      ]
     },
     "execution_count": 118,
     "metadata": {},
     "output_type": "execute_result"
    },
    {
     "data": {
      "image/png": "[encoded data removed]",
      "text/plain": [
       "<Figure size 640x480 with 1 Axes>"
      ]
     },
     "metadata": {},
     "output_type": "display_data"
    }
   ],
   "source": [
    "sns.boxplot(data=gosh, y = 'load_weight')"
   ]
  },
  {
   "cell_type": "markdown",
   "metadata": {},
   "source": []
  },
  {
   "cell_type": "code",
   "execution_count": 119,
   "metadata": {},
   "outputs": [
    {
     "data": {
      "text/plain": [
       "11818.482145967602"
      ]
     },
     "execution_count": 119,
     "metadata": {},
     "output_type": "execute_result"
    }
   ],
   "source": [
    "goshmean = gosh['load_weight'].mean()\n",
    "goshmean"
   ]
  },
  {
   "cell_type": "code",
   "execution_count": 120,
   "metadata": {},
   "outputs": [
    {
     "data": {
      "text/plain": [
       "11920.0"
      ]
     },
     "execution_count": 120,
     "metadata": {},
     "output_type": "execute_result"
    }
   ],
   "source": [
    "goshmean = gosh['load_weight'].median()\n",
    "goshmean"
   ]
  },
  {
   "cell_type": "code",
   "execution_count": 121,
   "metadata": {},
   "outputs": [
    {
     "data": {
      "text/plain": [
       "5070.76391789726"
      ]
     },
     "execution_count": 121,
     "metadata": {},
     "output_type": "execute_result"
    }
   ],
   "source": [
    "goshstd = gosh['load_weight'].std()\n",
    "goshstd"
   ]
  },
  {
   "cell_type": "code",
   "execution_count": 122,
   "metadata": {},
   "outputs": [
    {
     "data": {
      "text/plain": [
       "27132.29175369178"
      ]
     },
     "execution_count": 122,
     "metadata": {},
     "output_type": "execute_result"
    }
   ],
   "source": [
    "outliersplus = goshmean + 3*goshstd\n",
    "outliersplus"
   ]
  },
  {
   "cell_type": "code",
   "execution_count": 123,
   "metadata": {},
   "outputs": [
    {
     "data": {
      "text/plain": [
       "-3292.291753691781"
      ]
     },
     "execution_count": 123,
     "metadata": {},
     "output_type": "execute_result"
    }
   ],
   "source": [
    "outliersmin = goshmean - 3*goshstd\n",
    "outliersmin"
   ]
  },
  {
   "cell_type": "code",
   "execution_count": 124,
   "metadata": {},
   "outputs": [
    {
     "data": {
      "text/html": [
       "<div>\n",
       "<style scoped>\n",
       "    .dataframe tbody tr th:only-of-type {\n",
       "        vertical-align: middle;\n",
       "    }\n",
       "\n",
       "    .dataframe tbody tr th {\n",
       "        vertical-align: top;\n",
       "    }\n",
       "\n",
       "    .dataframe thead th {\n",
       "        text-align: right;\n",
       "    }\n",
       "</style>\n",
       "<table border=\"1\" class=\"dataframe\">\n",
       "  <thead>\n",
       "    <tr style=\"text-align: right;\">\n",
       "      <th></th>\n",
       "      <th>report_date</th>\n",
       "      <th>load_type</th>\n",
       "      <th>load_time</th>\n",
       "      <th>load_weight</th>\n",
       "      <th>dropoff_site</th>\n",
       "    </tr>\n",
       "  </thead>\n",
       "  <tbody>\n",
       "    <tr>\n",
       "      <th>6551</th>\n",
       "      <td>2021-02-26</td>\n",
       "      <td>ORGANICS</td>\n",
       "      <td>2021-02-26 05:12:00.000000 UTC</td>\n",
       "      <td>27620.0</td>\n",
       "      <td>ORGANICS BY GOSH</td>\n",
       "    </tr>\n",
       "    <tr>\n",
       "      <th>6972</th>\n",
       "      <td>2021-03-01</td>\n",
       "      <td>ORGANICS</td>\n",
       "      <td>2021-03-01 05:36:00.000000 UTC</td>\n",
       "      <td>27300.0</td>\n",
       "      <td>ORGANICS BY GOSH</td>\n",
       "    </tr>\n",
       "    <tr>\n",
       "      <th>9304</th>\n",
       "      <td>2021-03-15</td>\n",
       "      <td>ORGANICS</td>\n",
       "      <td>2021-03-15 12:00:00.000000 UTC</td>\n",
       "      <td>27240.0</td>\n",
       "      <td>ORGANICS BY GOSH</td>\n",
       "    </tr>\n",
       "    <tr>\n",
       "      <th>20497</th>\n",
       "      <td>2021-06-02</td>\n",
       "      <td>ORGANICS</td>\n",
       "      <td>2021-06-02 05:39:00.000000 UTC</td>\n",
       "      <td>28120.0</td>\n",
       "      <td>ORGANICS BY GOSH</td>\n",
       "    </tr>\n",
       "    <tr>\n",
       "      <th>20635</th>\n",
       "      <td>2021-06-03</td>\n",
       "      <td>ORGANICS</td>\n",
       "      <td>2021-06-03 07:05:00.000000 UTC</td>\n",
       "      <td>29660.0</td>\n",
       "      <td>ORGANICS BY GOSH</td>\n",
       "    </tr>\n",
       "    <tr>\n",
       "      <th>21008</th>\n",
       "      <td>2021-06-07</td>\n",
       "      <td>ORGANICS</td>\n",
       "      <td>2021-06-07 12:00:00.000000 UTC</td>\n",
       "      <td>29000.0</td>\n",
       "      <td>ORGANICS BY GOSH</td>\n",
       "    </tr>\n",
       "    <tr>\n",
       "      <th>22023</th>\n",
       "      <td>2021-06-14</td>\n",
       "      <td>ORGANICS</td>\n",
       "      <td>2021-06-14 06:15:00.000000 UTC</td>\n",
       "      <td>29160.0</td>\n",
       "      <td>ORGANICS BY GOSH</td>\n",
       "    </tr>\n",
       "  </tbody>\n",
       "</table>\n",
       "</div>"
      ],
      "text/plain": [
       "      report_date load_type                       load_time  load_weight  \\\n",
       "6551   2021-02-26  ORGANICS  2021-02-26 05:12:00.000000 UTC      27620.0   \n",
       "6972   2021-03-01  ORGANICS  2021-03-01 05:36:00.000000 UTC      27300.0   \n",
       "9304   2021-03-15  ORGANICS  2021-03-15 12:00:00.000000 UTC      27240.0   \n",
       "20497  2021-06-02  ORGANICS  2021-06-02 05:39:00.000000 UTC      28120.0   \n",
       "20635  2021-06-03  ORGANICS  2021-06-03 07:05:00.000000 UTC      29660.0   \n",
       "21008  2021-06-07  ORGANICS  2021-06-07 12:00:00.000000 UTC      29000.0   \n",
       "22023  2021-06-14  ORGANICS  2021-06-14 06:15:00.000000 UTC      29160.0   \n",
       "\n",
       "           dropoff_site  \n",
       "6551   ORGANICS BY GOSH  \n",
       "6972   ORGANICS BY GOSH  \n",
       "9304   ORGANICS BY GOSH  \n",
       "20497  ORGANICS BY GOSH  \n",
       "20635  ORGANICS BY GOSH  \n",
       "21008  ORGANICS BY GOSH  \n",
       "22023  ORGANICS BY GOSH  "
      ]
     },
     "execution_count": 124,
     "metadata": {},
     "output_type": "execute_result"
    }
   ],
   "source": [
    "gosh.loc[gosh['load_weight'] > 27132.2917]"
   ]
  },
  {
   "cell_type": "code",
   "execution_count": 125,
   "metadata": {},
   "outputs": [
    {
     "data": {
      "text/plain": [
       "164"
      ]
     },
     "execution_count": 125,
     "metadata": {},
     "output_type": "execute_result"
    }
   ],
   "source": [
    "goshtotoutlier = gosh.loc[gosh['load_weight'] > 21051.38].value_counts().sum()\n",
    "goshtotoutlier"
   ]
  },
  {
   "cell_type": "markdown",
   "metadata": {},
   "source": [
    "dari sini kita lihat rate pengaruh data outliers terhadap keseluruhan data yang data, dan disini saya akan mengahpusnya "
   ]
  },
  {
   "cell_type": "code",
   "execution_count": 126,
   "metadata": {},
   "outputs": [
    {
     "name": "stdout",
     "output_type": "stream",
     "text": [
      "2.8566451837658944 %\n"
     ]
    }
   ],
   "source": [
    "goshoutlierstotal = goshtotoutlier/gosh_rate*100\n",
    "print(goshoutlierstotal, '%')"
   ]
  },
  {
   "cell_type": "markdown",
   "metadata": {},
   "source": [
    "mengdrop data outliers"
   ]
  },
  {
   "cell_type": "code",
   "execution_count": 127,
   "metadata": {},
   "outputs": [
    {
     "name": "stderr",
     "output_type": "stream",
     "text": [
      "/var/folders/9y/396q6bm952zdggwx5bsp21v80000gp/T/ipykernel_796/4187679539.py:1: SettingWithCopyWarning: \n",
      "A value is trying to be set on a copy of a slice from a DataFrame\n",
      "\n",
      "See the caveats in the documentation: https://pandas.pydata.org/pandas-docs/stable/user_guide/indexing.html#returning-a-view-versus-a-copy\n",
      "  gosh.drop(index = [6551,6972,9304,20497,20635,21008,22023], inplace=True)\n"
     ]
    }
   ],
   "source": [
    "gosh.drop(index = [6551,6972,9304,20497,20635,21008,22023], inplace=True)"
   ]
  },
  {
   "cell_type": "markdown",
   "metadata": {},
   "source": [
    "melihat data setelah di drop"
   ]
  },
  {
   "cell_type": "code",
   "execution_count": 128,
   "metadata": {},
   "outputs": [
    {
     "data": {
      "text/plain": [
       "report_date     5734\n",
       "load_type       5734\n",
       "load_time       5734\n",
       "load_weight     5734\n",
       "dropoff_site    5734\n",
       "dtype: int64"
      ]
     },
     "execution_count": 128,
     "metadata": {},
     "output_type": "execute_result"
    }
   ],
   "source": [
    "gosh.count()"
   ]
  },
  {
   "cell_type": "code",
   "execution_count": 129,
   "metadata": {},
   "outputs": [
    {
     "data": {
      "text/plain": [
       "<AxesSubplot: ylabel='load_weight'>"
      ]
     },
     "execution_count": 129,
     "metadata": {},
     "output_type": "execute_result"
    },
    {
     "data": {
      "image/png": "[encoded data removed]",
      "text/plain": [
       "<Figure size 640x480 with 1 Axes>"
      ]
     },
     "metadata": {},
     "output_type": "display_data"
    }
   ],
   "source": [
    "sns.boxplot(data=gosh, y = 'load_weight')"
   ]
  },
  {
   "cell_type": "markdown",
   "metadata": {},
   "source": [
    "dan sudah bisa dilihat data outliers sudah berhasil kita hapuskan dan kita sudah mendapatkan data yang kita inginkan untuk \"ORGANIC BY GOSH\""
   ]
  },
  {
   "cell_type": "code",
   "execution_count": 130,
   "metadata": {},
   "outputs": [
    {
     "data": {
      "image/png": "[encoded data removed]",
      "text/plain": [
       "<Figure size 640x480 with 1 Axes>"
      ]
     },
     "metadata": {},
     "output_type": "display_data"
    }
   ],
   "source": [
    "gosh.plot.hist(title='GOSH', color='green', bins=25)  \n",
    "plt.axvline(gosh['load_weight'].mean(), color='yellow', linestyle='dashed', linewidth=3)\n",
    "plt.axvline(gosh['load_weight'].median(), color='blue', linestyle='dashed', linewidth=3)\n",
    "plt.show()"
   ]
  },
  {
   "cell_type": "markdown",
   "metadata": {},
   "source": [
    "**ON ROUTE HIGH DUMP**"
   ]
  },
  {
   "cell_type": "markdown",
   "metadata": {},
   "source": [
    "Disini kita akan menambahkan data pada \"ON ROUTE HIGH DUMP\" yang untuk kita bandingkan dengan \"ORGANICS BY GOSH\" dengan kemudian kita akan melakukkan uji hipotesis dengan antara kedua data tersebut"
   ]
  },
  {
   "cell_type": "code",
   "execution_count": 131,
   "metadata": {},
   "outputs": [
    {
     "data": {
      "text/html": [
       "<div>\n",
       "<style scoped>\n",
       "    .dataframe tbody tr th:only-of-type {\n",
       "        vertical-align: middle;\n",
       "    }\n",
       "\n",
       "    .dataframe tbody tr th {\n",
       "        vertical-align: top;\n",
       "    }\n",
       "\n",
       "    .dataframe thead th {\n",
       "        text-align: right;\n",
       "    }\n",
       "</style>\n",
       "<table border=\"1\" class=\"dataframe\">\n",
       "  <thead>\n",
       "    <tr style=\"text-align: right;\">\n",
       "      <th></th>\n",
       "      <th>report_date</th>\n",
       "      <th>load_type</th>\n",
       "      <th>load_time</th>\n",
       "      <th>load_weight</th>\n",
       "      <th>dropoff_site</th>\n",
       "    </tr>\n",
       "  </thead>\n",
       "  <tbody>\n",
       "    <tr>\n",
       "      <th>8411</th>\n",
       "      <td>2021-03-09</td>\n",
       "      <td>ORGANICS</td>\n",
       "      <td>2021-03-09 12:00:00.000000 UTC</td>\n",
       "      <td>12500.0</td>\n",
       "      <td>ON ROUTE HIGH DUMP</td>\n",
       "    </tr>\n",
       "    <tr>\n",
       "      <th>8952</th>\n",
       "      <td>2021-03-11</td>\n",
       "      <td>ORGANICS</td>\n",
       "      <td>2021-03-11 11:00:00.000000 UTC</td>\n",
       "      <td>15200.0</td>\n",
       "      <td>ON ROUTE HIGH DUMP</td>\n",
       "    </tr>\n",
       "    <tr>\n",
       "      <th>9202</th>\n",
       "      <td>2021-03-14</td>\n",
       "      <td>ORGANICS</td>\n",
       "      <td>2021-03-14 12:00:00.000000 UTC</td>\n",
       "      <td>15040.0</td>\n",
       "      <td>ON ROUTE HIGH DUMP</td>\n",
       "    </tr>\n",
       "    <tr>\n",
       "      <th>13575</th>\n",
       "      <td>2021-04-12</td>\n",
       "      <td>ORGANICS</td>\n",
       "      <td>2021-04-12 04:51:00.000000 UTC</td>\n",
       "      <td>18460.0</td>\n",
       "      <td>ON ROUTE HIGH DUMP</td>\n",
       "    </tr>\n",
       "    <tr>\n",
       "      <th>14004</th>\n",
       "      <td>2021-04-14</td>\n",
       "      <td>ORGANICS</td>\n",
       "      <td>2021-04-14 04:27:00.000000 UTC</td>\n",
       "      <td>4060.0</td>\n",
       "      <td>ON ROUTE HIGH DUMP</td>\n",
       "    </tr>\n",
       "    <tr>\n",
       "      <th>20788</th>\n",
       "      <td>2021-06-04</td>\n",
       "      <td>ORGANICS</td>\n",
       "      <td>2021-06-04 02:45:00.000000 UTC</td>\n",
       "      <td>7480.0</td>\n",
       "      <td>ON ROUTE HIGH DUMP</td>\n",
       "    </tr>\n",
       "    <tr>\n",
       "      <th>22019</th>\n",
       "      <td>2021-06-14</td>\n",
       "      <td>ORGANICS</td>\n",
       "      <td>2021-06-14 02:55:00.000000 UTC</td>\n",
       "      <td>14940.0</td>\n",
       "      <td>ON ROUTE HIGH DUMP</td>\n",
       "    </tr>\n",
       "  </tbody>\n",
       "</table>\n",
       "</div>"
      ],
      "text/plain": [
       "      report_date load_type                       load_time  load_weight  \\\n",
       "8411   2021-03-09  ORGANICS  2021-03-09 12:00:00.000000 UTC      12500.0   \n",
       "8952   2021-03-11  ORGANICS  2021-03-11 11:00:00.000000 UTC      15200.0   \n",
       "9202   2021-03-14  ORGANICS  2021-03-14 12:00:00.000000 UTC      15040.0   \n",
       "13575  2021-04-12  ORGANICS  2021-04-12 04:51:00.000000 UTC      18460.0   \n",
       "14004  2021-04-14  ORGANICS  2021-04-14 04:27:00.000000 UTC       4060.0   \n",
       "20788  2021-06-04  ORGANICS  2021-06-04 02:45:00.000000 UTC       7480.0   \n",
       "22019  2021-06-14  ORGANICS  2021-06-14 02:55:00.000000 UTC      14940.0   \n",
       "\n",
       "             dropoff_site  \n",
       "8411   ON ROUTE HIGH DUMP  \n",
       "8952   ON ROUTE HIGH DUMP  \n",
       "9202   ON ROUTE HIGH DUMP  \n",
       "13575  ON ROUTE HIGH DUMP  \n",
       "14004  ON ROUTE HIGH DUMP  \n",
       "20788  ON ROUTE HIGH DUMP  \n",
       "22019  ON ROUTE HIGH DUMP  "
      ]
     },
     "execution_count": 131,
     "metadata": {},
     "output_type": "execute_result"
    }
   ],
   "source": [
    "dump = df.loc[df['dropoff_site']=='ON ROUTE HIGH DUMP']\n",
    "dump"
   ]
  },
  {
   "cell_type": "markdown",
   "metadata": {},
   "source": [
    "menghitung jumlah data"
   ]
  },
  {
   "cell_type": "code",
   "execution_count": 132,
   "metadata": {},
   "outputs": [
    {
     "data": {
      "text/plain": [
       "7"
      ]
     },
     "execution_count": 132,
     "metadata": {},
     "output_type": "execute_result"
    }
   ],
   "source": [
    "dump_rate = dump.value_counts().sum()\n",
    "dump_rate"
   ]
  },
  {
   "cell_type": "markdown",
   "metadata": {},
   "source": [
    "mmenghitung total data yang ada di 'on route high dump'"
   ]
  },
  {
   "cell_type": "code",
   "execution_count": 133,
   "metadata": {},
   "outputs": [
    {
     "data": {
      "text/plain": [
       "ORGANICS    7\n",
       "Name: load_type, dtype: int64"
      ]
     },
     "execution_count": 133,
     "metadata": {},
     "output_type": "execute_result"
    }
   ],
   "source": [
    "dump['load_type'].value_counts()"
   ]
  },
  {
   "cell_type": "markdown",
   "metadata": {},
   "source": [
    "menghitung total data dari 'on route high dump' di keseluruhan organics"
   ]
  },
  {
   "cell_type": "code",
   "execution_count": 134,
   "metadata": {},
   "outputs": [
    {
     "name": "stdout",
     "output_type": "stream",
     "text": [
      "0.1217603061401983 %\n"
     ]
    }
   ],
   "source": [
    "dump_total_data = dump_rate/organics*100\n",
    "print(dump_total_data,'%')"
   ]
  },
  {
   "cell_type": "markdown",
   "metadata": {},
   "source": [
    "membuat plot dari 'high dump'"
   ]
  },
  {
   "cell_type": "code",
   "execution_count": 137,
   "metadata": {},
   "outputs": [
    {
     "data": {
      "image/png": "[encoded data removed]",
      "text/plain": [
       "<Figure size 640x480 with 1 Axes>"
      ]
     },
     "metadata": {},
     "output_type": "display_data"
    }
   ],
   "source": [
    "dump.plot.hist(title='HIGH DUMP', color='green', bins=20)  \n",
    "plt.axvline(dump['load_weight'].mean(), color='yellow', linestyle='dashed', linewidth=3)\n",
    "plt.axvline(dump['load_weight'].median(), color='blue', linestyle='dashed', linewidth=3)\n",
    "plt.show()"
   ]
  },
  {
   "cell_type": "markdown",
   "metadata": {},
   "source": [
    "mencari outlier dengan boxplot"
   ]
  },
  {
   "cell_type": "code",
   "execution_count": 138,
   "metadata": {},
   "outputs": [
    {
     "data": {
      "text/plain": [
       "<AxesSubplot: ylabel='load_weight'>"
      ]
     },
     "execution_count": 138,
     "metadata": {},
     "output_type": "execute_result"
    },
    {
     "data": {
      "image/png": "[encoded data removed]",
      "text/plain": [
       "<Figure size 640x480 with 1 Axes>"
      ]
     },
     "metadata": {},
     "output_type": "display_data"
    }
   ],
   "source": [
    "sns.boxplot(data=dump, y = 'load_weight')"
   ]
  },
  {
   "cell_type": "markdown",
   "metadata": {},
   "source": [
    "Seperti yang terlihat kita tidak mendapatkan data outliers, selanjutnya kita langsung melakukan simulasi saja."
   ]
  },
  {
   "cell_type": "markdown",
   "metadata": {},
   "source": [
    "menghitung mean dari 'dump'"
   ]
  },
  {
   "cell_type": "code",
   "execution_count": 141,
   "metadata": {},
   "outputs": [
    {
     "data": {
      "text/plain": [
       "12525.714285714286"
      ]
     },
     "execution_count": 141,
     "metadata": {},
     "output_type": "execute_result"
    }
   ],
   "source": [
    "dumpmean = dump['load_weight'].mean()\n",
    "dumpmean"
   ]
  },
  {
   "cell_type": "markdown",
   "metadata": {},
   "source": [
    "menghitung median dari 'dump'"
   ]
  },
  {
   "cell_type": "code",
   "execution_count": 142,
   "metadata": {},
   "outputs": [
    {
     "data": {
      "text/plain": [
       "14940.0"
      ]
     },
     "execution_count": 142,
     "metadata": {},
     "output_type": "execute_result"
    }
   ],
   "source": [
    "dumpmedian = dump['load_weight'].median()\n",
    "dumpmedian"
   ]
  },
  {
   "cell_type": "markdown",
   "metadata": {},
   "source": [
    "**HYPHOTHESIS TESTING**"
   ]
  },
  {
   "cell_type": "markdown",
   "metadata": {},
   "source": [
    "setelah memperoleh data yang diinginkan 'organics by gosh' dan 'on route high dump', kemudian kita mencari P value dan T statistics nya"
   ]
  },
  {
   "cell_type": "code",
   "execution_count": 143,
   "metadata": {},
   "outputs": [
    {
     "name": "stdout",
     "output_type": "stream",
     "text": [
      "Pvalue: 0.7028300149734512\n",
      "Tstatistics: -0.38152207954886747\n"
     ]
    }
   ],
   "source": [
    "# t-test 2 sample 2 tailed\n",
    "tstat, pval = stats.ttest_ind(gosh['load_weight'], dump['load_weight'])\n",
    "\n",
    "# ttest_ind is 2-tailed, we dont need to divide by 2\n",
    "print('Pvalue:',pval)\n",
    "print('Tstatistics:',tstat)"
   ]
  },
  {
   "cell_type": "markdown",
   "metadata": {},
   "source": [
    "### HYPOTHESIS TESTING"
   ]
  },
  {
   "cell_type": "markdown",
   "metadata": {},
   "source": [
    "Di sini saya akan memplot Tstat dengan menghasilkan angka yang acak sehingga saya dapat memprediksi nilai data masa depan,  mengingat angka acak yang saya hasilkan berdasarkan data saya dari 'organics by gosh' dan 'on route high dump'"
   ]
  },
  {
   "cell_type": "code",
   "execution_count": 145,
   "metadata": {},
   "outputs": [
    {
     "name": "stdout",
     "output_type": "stream",
     "text": [
      "1918.3215046036494\n",
      "21678.40189965167\n"
     ]
    },
    {
     "data": {
      "image/png": "[encoded data removed]",
      "text/plain": [
       "<Figure size 1600x500 with 1 Axes>"
      ]
     },
     "metadata": {},
     "output_type": "display_data"
    }
   ],
   "source": [
    "# simulation\n",
    "goshfig = np.random.normal(gosh['load_weight'].mean(),gosh['load_weight'].std(),10000)\n",
    "dumpfig = np.random.normal(dump['load_weight'].mean(),dump['load_weight'].std(),10000)\n",
    "\n",
    "# confidence interval based on ORGANICS BY GOSH\n",
    "ci = stats.norm.interval(0.95, gosh['load_weight'].mean(), gosh['load_weight'].std())\n",
    "\n",
    "plt.figure(figsize=(16,5))\n",
    "sns.histplot(dumpfig, label='ON ROUTE HIGH DUMP',color='red')\n",
    "sns.histplot(goshfig, label='ORGANICS BY GOSH ',color='yellow')\n",
    "\n",
    "\n",
    "# mean\n",
    "plt.axvline(gosh['load_weight'].mean(), color='green', linewidth=2, label='ORGANICS BY GOSH  load weight mean')\n",
    "plt.axvline(dump['load_weight'].mean(), color='blue',  linewidth=2, label='ON ROUTE HIGH DUMP mean')\n",
    "\n",
    "plt.axvline(ci[1], color='green', linestyle='dashed', linewidth=2, label='confidence threshold of 95%')\n",
    "plt.axvline(ci[0], color='green', linestyle='dashed', linewidth=2, label='confidence threshold of 95%')\n",
    "plt.axvline(ci[3], colot='green', linestyle='dasher', linewidth=2, label=)\n",
    "\n",
    "\n",
    "# alternative hypotesis\n",
    "plt.axvline(goshfig.mean()+tstat*goshfig.std(), color='black', linestyle='dashed', linewidth=2, label = 'Alternative Hypothesis')\n",
    "plt.axvline(dumpfig.mean()-tstat*dumpfig.std(), color='black', linestyle='dashed', linewidth=2)\n",
    "\n",
    "\n",
    "plt.legend()\n",
    "print(ci[0])\n",
    "print(ci[1])\n"
   ]
  },
  {
   "cell_type": "markdown",
   "metadata": {},
   "source": [
    "**`QUESTION`**\n",
    "\n",
    "1. Teknik apa yang kamu pilih untuk handling outlier? jelaskan alasannya!\n",
    "    \n",
    "    Saya menggunakan tenknik Z-Score. Z score adalah cara yang paling efisien untuk menemukan outliers karena skor ini membantu untuk memahami apakah nilai data lebih besar atau lebih kecil dari rata-rata dan seberapa jauh jaraknya dari rata-rata. Lebih khusus lagi, Z-skor memberi tahu berapa banyak standar deviasi dari titik data dari rata-rata.\n",
    "\n",
    "2. Apa konsep dibalik confidence interval sehingga kita dapat menggunakannya untuk menyelesaikan langkah pada nomor 7?\n",
    "    \n",
    "    saya menggunakan konsep confidence interval untuk mengukur seberapa akuran \"mean\" di lokasi ORGANICS BY GOSH dan ON ROUTE HIGH DUMP. Jika hipotesis berada dalam onfidence interval, maka H0 kita (hipotesis null) tidak ditolak. Yang berarti tidak ada signifikansi dalam perubahan. Sebaliknya, H0 (hipotesis null) ditolak jika hipotesis kita berada di luar selang kepercayaan.\n",
    "\n",
    "3. Jelaskan jenis uji hipotesis apa yang kamu terapkan dan mengapa?\n",
    "\n",
    "    saya menggunakan \"2 sample 2 tails\"uji statistik parametrik yang membandingkan dua kelompok independen untuk menentukan apakah ada bukti bahwa rata-rata populasi secara statistik signifikan berbeda. Variabel yang digunakan dalam uji ini yaitu variabel terikat dan variabel bebas.\n"
   ]
  },
  {
   "cell_type": "markdown",
   "metadata": {},
   "source": [
    "# PROBLEM 2"
   ]
  },
  {
   "cell_type": "markdown",
   "metadata": {},
   "source": []
  },
  {
   "cell_type": "code",
   "execution_count": 154,
   "metadata": {},
   "outputs": [
    {
     "data": {
      "text/html": [
       "<div>\n",
       "<style scoped>\n",
       "    .dataframe tbody tr th:only-of-type {\n",
       "        vertical-align: middle;\n",
       "    }\n",
       "\n",
       "    .dataframe tbody tr th {\n",
       "        vertical-align: top;\n",
       "    }\n",
       "\n",
       "    .dataframe thead th {\n",
       "        text-align: right;\n",
       "    }\n",
       "</style>\n",
       "<table border=\"1\" class=\"dataframe\">\n",
       "  <thead>\n",
       "    <tr style=\"text-align: right;\">\n",
       "      <th></th>\n",
       "      <th>load_weight</th>\n",
       "    </tr>\n",
       "    <tr>\n",
       "      <th>report_date</th>\n",
       "      <th></th>\n",
       "    </tr>\n",
       "  </thead>\n",
       "  <tbody>\n",
       "    <tr>\n",
       "      <th>2021-01-02</th>\n",
       "      <td>2170130.0</td>\n",
       "    </tr>\n",
       "    <tr>\n",
       "      <th>2021-01-04</th>\n",
       "      <td>2920260.0</td>\n",
       "    </tr>\n",
       "    <tr>\n",
       "      <th>2021-01-05</th>\n",
       "      <td>2388540.0</td>\n",
       "    </tr>\n",
       "    <tr>\n",
       "      <th>2021-01-06</th>\n",
       "      <td>2396550.0</td>\n",
       "    </tr>\n",
       "    <tr>\n",
       "      <th>2021-01-07</th>\n",
       "      <td>2438330.0</td>\n",
       "    </tr>\n",
       "    <tr>\n",
       "      <th>...</th>\n",
       "      <td>...</td>\n",
       "    </tr>\n",
       "    <tr>\n",
       "      <th>2021-07-05</th>\n",
       "      <td>1897290.0</td>\n",
       "    </tr>\n",
       "    <tr>\n",
       "      <th>2021-07-06</th>\n",
       "      <td>1921640.0</td>\n",
       "    </tr>\n",
       "    <tr>\n",
       "      <th>2021-07-07</th>\n",
       "      <td>1553080.0</td>\n",
       "    </tr>\n",
       "    <tr>\n",
       "      <th>2021-07-08</th>\n",
       "      <td>1417650.0</td>\n",
       "    </tr>\n",
       "    <tr>\n",
       "      <th>2021-07-09</th>\n",
       "      <td>120340.0</td>\n",
       "    </tr>\n",
       "  </tbody>\n",
       "</table>\n",
       "<p>165 rows × 1 columns</p>\n",
       "</div>"
      ],
      "text/plain": [
       "             load_weight\n",
       "report_date             \n",
       "2021-01-02     2170130.0\n",
       "2021-01-04     2920260.0\n",
       "2021-01-05     2388540.0\n",
       "2021-01-06     2396550.0\n",
       "2021-01-07     2438330.0\n",
       "...                  ...\n",
       "2021-07-05     1897290.0\n",
       "2021-07-06     1921640.0\n",
       "2021-07-07     1553080.0\n",
       "2021-07-08     1417650.0\n",
       "2021-07-09      120340.0\n",
       "\n",
       "[165 rows x 1 columns]"
      ]
     },
     "execution_count": 154,
     "metadata": {},
     "output_type": "execute_result"
    }
   ],
   "source": [
    "f = df.groupby('report_date')['load_weight'].sum().to_frame()\n",
    "f"
   ]
  },
  {
   "cell_type": "code",
   "execution_count": 155,
   "metadata": {},
   "outputs": [],
   "source": [
    "v = np.diff(f['load_weight'])/np.diff(range(165))"
   ]
  },
  {
   "cell_type": "code",
   "execution_count": 156,
   "metadata": {},
   "outputs": [],
   "source": [
    "weight_tommorow = f['load_weight'][-1] + v[-1]*1"
   ]
  },
  {
   "cell_type": "code",
   "execution_count": 157,
   "metadata": {},
   "outputs": [
    {
     "data": {
      "text/plain": [
       "1176970.0"
      ]
     },
     "execution_count": 157,
     "metadata": {},
     "output_type": "execute_result"
    }
   ],
   "source": [
    "abs(weight_tommorow)"
   ]
  },
  {
   "cell_type": "markdown",
   "metadata": {},
   "source": [
    "## Questions 2\n",
    "1. Untuk menghitung turunan pertama dapat digunakan metode simbolik dan numerik, untuk kasus ini, teknik apa yang kamu gunakan?\n",
    "    \n",
    "    menggunakan perhitungan metode numeric, dengan munggunakan 'dif' function yang di immport dengan numpy\n",
    "\n",
    "2. Apakah kamu membutuhkan fungsi matematis untuk menghitung turunannya? (ya/tidak) berikan alasanmu!\n",
    "\n",
    "    Ya saya membutuhkan fungsi matematika, karena rumus yang diberikan dapat dihitung dengan memasukkan nilai data. Jadi saya menggunakan fungsi matematika untuk menghitung diferensial dalam data sehingga yang dihasilkan digunakan untuk rumus dalam memprediksi berat beban sampah yang akan diperolehbesok.\n",
    "    \n",
    "3. Berapa load weight yang kamu perkirakan di hari esok (10 Juli 2021)?\n",
    "\n",
    "    1176970.0"
   ]
  },
  {
   "cell_type": "code",
   "execution_count": null,
   "metadata": {},
   "outputs": [],
   "source": []
  }
 ],
 "metadata": {
  "kernelspec": {
   "display_name": "Python 3.9.6 64-bit",
   "language": "python",
   "name": "python3"
  },
  "language_info": {
   "codemirror_mode": {
    "name": "ipython",
    "version": 3
   },
   "file_extension": ".py",
   "mimetype": "text/x-python",
   "name": "python",
   "nbconvert_exporter": "python",
   "pygments_lexer": "ipython3",
   "version": "3.9.6"
  },
  "orig_nbformat": 4,
  "vscode": {
   "interpreter": {
    "hash": "31f2aee4e71d21fbe5cf8b01ff0e069b9275f58929596ceb00d14d90e3e16cd6"
   }
  }
 },
 "nbformat": 4,
 "nbformat_minor": 2
}
